{
 "cells": [
  {
   "cell_type": "markdown",
   "id": "9f57ea0b-6177-430a-b855-53e14a691948",
   "metadata": {},
   "source": [
    "# Min Superstring Challenge\n",
    "\n",
    "## Challenge Descripton\n",
    "\n",
    "You are given n strings with 5 characters a-z.\n",
    "\n",
    "Your objective is to develop an algorithm to combine the strings in any order to produce a superstring with as small a length as possible. \n",
    "\n",
    "You are allowed to permute each string.\n",
    "\n",
    "When combining strings, if there is overlap....\n",
    "\n",
    "e.g. \n",
    "Challenge = {\n",
    "   strings: [\"qwert\", \"qtare\", \"breaw\"]\n",
    "}\n",
    "   \n",
    "you calculate Solution = {\n",
    " permuted_strings: [\"reqtw\", \"areqt\", \"bsare\"],\n",
    " superstring_idxs: [3,2,0]\n",
    "}\n",
    "\n",
    "combine into bsareqtw\n",
    "\n",
    "\n",
    "FIXME details of difficulty [size, better_than_baseline]\n",
    "Baseline is calcualted by sampling <size> random string pairs, working out average overlap, and setting baseline_lenght = ceil(sum(string lengths) - (avg_overlap * (size - 1.0)) / 10.0))\n",
    "Better than baseline is in increments of 0.1%\n",
    "Size is number of strings\n",
    "\n",
    "## Challenge Code\n",
    "\n",
    "The code for generating random instances of the challenge can be found at [tig-challenges/src/min_superstring.rs](tig-challenges/src/min_superstring.rs)\n",
    "\n",
    "## Quick Start\n",
    "\n",
    "1. Make a copy of [tig-algorithms/src/min_superstring/template.rs](tig-algorithms/src/min_superstring/template.rs) in the same folder and rename to `my_algo.rs`\n",
    "2. Edit `my_algo.rs` and add `println!(\"Hello World\");` to the `solve_challenge` function\n",
    "3. Edit [tig-algorithms/src/min_superstring/mod.rs](tig-algorithms/src/min_superstring/mod.rs) and add a line `pub mod my_algo;`\n",
    "4. Run the cell below to build your algorithm"
   ]
  },
  {
   "cell_type": "code",
   "execution_count": null,
   "id": "8ad10cdc-1db9-4594-8f11-8c52ea497600",
   "metadata": {},
   "outputs": [],
   "source": [
    "!build_algorithm min_superstring my_algo"
   ]
  },
  {
   "cell_type": "markdown",
   "id": "16165ad0-00fc-4c2d-93ee-9a7324746e2e",
   "metadata": {},
   "source": [
    "5. Run the cell below to test your algorithm"
   ]
  },
  {
   "cell_type": "code",
   "execution_count": null,
   "id": "e30a6da6-ba19-4aed-8659-c3209f976393",
   "metadata": {},
   "outputs": [],
   "source": [
    "# [50,1] is the difficulty [size, better_than_baseline]\n",
    "!test_algorithm min_superstring my_algo [50,1] --nonces 1 --verbose"
   ]
  },
  {
   "cell_type": "markdown",
   "id": "5ef1f8c3-b0c2-4759-a278-6c412172f566",
   "metadata": {},
   "source": [
    "## Solve Challenge Notes\n",
    "\n",
    "you do not have access to baseline related fields. i.e. you do not know the threshold for a solution\n",
    "\n",
    "call save_solution to save your solution. Last saved solution is used\n",
    "\n",
    "return Ok(()) to exit early. It will naturally exit once you run out of \"fuel\" (a proxy for time)\n",
    "\n",
    "suggest them to ignore hyperparameters"
   ]
  },
  {
   "cell_type": "markdown",
   "id": "d720aea2-ed03-4e53-92cc-7b9297c8bcbd",
   "metadata": {},
   "source": [
    "## Testing Other Algorithms\n",
    "\n",
    "1. Run the cell below to list other algorithms (can click on links to view their code)"
   ]
  },
  {
   "cell_type": "code",
   "execution_count": 1,
   "id": "cd5f700c-5709-4be4-aad5-f616c7586e4f",
   "metadata": {},
   "outputs": [],
   "source": [
    "# The output will be blank at the beginning of the Hackathon\n",
    "!list_algorithms min_superstring"
   ]
  },
  {
   "cell_type": "markdown",
   "id": "453603af-9f38-47aa-803f-8b4e2153fd3c",
   "metadata": {},
   "source": [
    "2. Edit the cell below to download one of the algorithms"
   ]
  },
  {
   "cell_type": "code",
   "execution_count": null,
   "id": "840d6e41-29e5-42d8-9706-6d40d76b1777",
   "metadata": {},
   "outputs": [],
   "source": [
    "# Replace <algorithm>\n",
    "!download_algorithm min_superstring <algorithm>"
   ]
  },
  {
   "cell_type": "markdown",
   "id": "f92e214f-f62e-49f6-a624-736fd9f10878",
   "metadata": {},
   "source": [
    "3. Edit the cell below to test your downloaded algorithm"
   ]
  },
  {
   "cell_type": "code",
   "execution_count": null,
   "id": "de22c520-1006-4f30-8c9f-3bff610dfb67",
   "metadata": {},
   "outputs": [],
   "source": [
    "# Replace <algorithm>\n",
    "!test_algorithm min_superstring <algorithm> ["
   ]
  },
  {
   "cell_type": "markdown",
   "id": "5e800f91-94fb-47f3-b616-13e788fa1619",
   "metadata": {},
   "source": [
    "## Submitting Your Algorithm\n",
    "\n",
    "You can only make 1 submission per round.\n",
    "\n",
    "Within the same round, you can replace your submission any number of times (must use same name, up until 5 minutes before end of round)"
   ]
  },
  {
   "cell_type": "code",
   "execution_count": null,
   "id": "38a64909-bbc5-470d-bb7e-b6403a456015",
   "metadata": {},
   "outputs": [],
   "source": [
    "import requests\n",
    "import os\n",
    "\n",
    "# Replace with your Team's api key!\n",
    "API_KEY = None\n",
    "if API_KEY is None:\n",
    "    raise ValueError(\"Set your API Key!\")\n",
    "\n",
    "MY_ALGORITHM = None\n",
    "if MY_ALGORITHM is None:\n",
    "    raise ValueError(\"Set name of algorithm you want to submit!\")\n",
    "\n",
    "algo_path = f\"tig-algorithms/src/min_superstring/{MY_ALGORITHM}.rs\"\n",
    "if not os.path.exists(algo_path):\n",
    "    raise FileNotFoundError(f\"No rust file found at {algo_path}\")\n",
    "\n",
    "resp = requests.post(\n",
    "    \"https://hackathon-api.tig.foundation/submit-code\",\n",
    "    headers={\"X-Api-Key\": API_KEY},\n",
    "    json={\n",
    "        \"challenge_id\": \"c002\",\n",
    "        \"name\": MY_ALGORITHM,\n",
    "        \"files\": {\"mod.rs\": open(algo_path, \"r\").read()}\n",
    "    }\n",
    ")\n",
    "print(f\"Status: {resp.status_code}, Text: {resp.text}\")"
   ]
  }
 ],
 "metadata": {
  "kernelspec": {
   "display_name": "Python 3 (ipykernel)",
   "language": "python",
   "name": "python3"
  },
  "language_info": {
   "codemirror_mode": {
    "name": "ipython",
    "version": 3
   },
   "file_extension": ".py",
   "mimetype": "text/x-python",
   "name": "python",
   "nbconvert_exporter": "python",
   "pygments_lexer": "ipython3",
   "version": "3.12.3"
  }
 },
 "nbformat": 4,
 "nbformat_minor": 5
}
