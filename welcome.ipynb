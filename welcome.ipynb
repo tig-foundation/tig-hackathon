{
 "cells": [
  {
   "cell_type": "markdown",
   "id": "9f57ea0b-6177-430a-b855-53e14a691948",
   "metadata": {},
   "source": [
    "# The Innovation Game (TIG) Hackathon\n",
    "\n",
    "Welcome! This is your Team's dedicated server for the Hackathon\n",
    "\n",
    "The Innovation Game is a high-intensity, fast-paced race taking place over 24 rounds, lasting 2 hours each.\n",
    "\n",
    "## Hackathon Objective\n",
    "You can play as an Innovator and/or Benchmarker, with the objective of earning the most total points over the Hackathon:\n",
    "* Innovators submit Rust algorithms for solving the featured challenges, earning points based on adoption of those algorithms by Benchmarkers\n",
    "* Benchmarkers compute solutions to random instances of challenges, earning points based on number of solutions submitted\n",
    "\n",
    "**Important:**\n",
    "* If you are participating as an Innovator, you will want to also play as Benchmarker to affect the adoption of your algorithms!\n",
    "* Algorithms submitted in Round X, will be public in Round X + 1, and usable for benchmarking in Round X + 2\n",
    "* Innovators can only submit 1 algorithm per round\n",
    "* Innovators can iterate on other Innovator's algorithms\n",
    "\n",
    "## Hackathon Prizes\n",
    "Top 3 Innovators:\n",
    "1. 500USD worth of TIG + RTX 5070\n",
    "2. 200USD worth of TIG + Gaming Monitor\n",
    "3. 100USD worth of TIG + Gaming Keyboard\n",
    "\n",
    "Top 3 Benchmarkers:\n",
    "1. 500USD worth of TIG\n",
    "2. 200USD worth of TIG\n",
    "3. 100USD worth of TIG\n",
    "\n",
    "Every individual in the top 25 teams across Innovators and Benchmarkers get $10 worth of TIG\n",
    "\n",
    "## Featured Challenges\n",
    "For Encode2025, we have the following 3 challenges (HackerRank/LeetCode style problems):\n",
    "1. [Balanced Square](balanced_square.ipynb)\n",
    "2. [Minimum Superstring](min_superstring.ipynb)\n",
    "3. [Travelling Salesman](travelling_salesman.ipynb)\n",
    "\n",
    "## Important Links\n",
    "* [Hackathon Leaderboard](https://hackathons.tig.foundation/)\n",
    "* [Your Benchmarker Control Interface](/benchmarker)\n",
    "* [Getting Started with Benchmarking](benchmarking_guide.ipynb)\n",
    "* Getting Started with Innovating (click one of the challenge links above)"
   ]
  },
  {
   "cell_type": "code",
   "execution_count": null,
   "id": "78f42e03-c9c0-494c-b7a0-3aa189b66b55",
   "metadata": {},
   "outputs": [],
   "source": []
  }
 ],
 "metadata": {
  "kernelspec": {
   "display_name": "Python 3 (ipykernel)",
   "language": "python",
   "name": "python3"
  },
  "language_info": {
   "codemirror_mode": {
    "name": "ipython",
    "version": 3
   },
   "file_extension": ".py",
   "mimetype": "text/x-python",
   "name": "python",
   "nbconvert_exporter": "python",
   "pygments_lexer": "ipython3",
   "version": "3.12.3"
  }
 },
 "nbformat": 4,
 "nbformat_minor": 5
}
