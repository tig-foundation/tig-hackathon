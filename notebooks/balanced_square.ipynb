{
 "cells": [
  {
   "cell_type": "markdown",
   "id": "69304751-d115-42c3-a7bf-93aad570ec6d",
   "metadata": {},
   "source": [
    "# Balanced Square Challenge"
   ]
  },
  {
   "cell_type": "markdown",
   "id": "0165bd0b-f906-4168-8013-91281ee64cc0",
   "metadata": {},
   "source": [
    "## Objective\n",
    "\n",
    "Given $n^2$ random numbers in range 1 to 100 (inclusive), the Balanced Square Challenge is to arrange those numbers in a n x n square, such that you minimise the variance between all the $2n + 2$ sums (sum of each column, sum of each row, and sum of each diagonal)\n",
    "\n",
    "**Important:**\n",
    "* Each instance of the challenge has its own variance threshold. An arrangement's variance must be less than or equal to this threshold to be a valid solution\n",
    "* Your algorithm **IS NOT** given the variance threshold\n",
    "* Your algorithm should use `save_solution(&solution)` to save your best candidate solution\n",
    "* Your algorithm should `return Ok(())` to terminate early\n",
    "* Your algorithm will automatically terminate after approximately 20s\n",
    "* After terminating, your algorithm's last save will be checked against the threshold"
   ]
  },
  {
   "cell_type": "markdown",
   "id": "0987f080-109b-4913-bd80-c6d97bee0866",
   "metadata": {},
   "source": [
    "## Definitions\n",
    "\n",
    "The code for generating random instances of the challenge can be found at [tig-challenges/src/balanced_square.rs](tig-challenges/src/balanced_square.rs)\n",
    "\n",
    "```\n",
    "Challenge {\n",
    "   numbers: Vec<i32>\n",
    "}\n",
    "```\n",
    "\n",
    "* `numbers` is a vector of  n² random integers in the range 1 to 100 (inclusive)\n",
    "\n",
    "```\n",
    "Solution {\n",
    "    square: Vec<Vec<i32>>\n",
    "}\n",
    "```\n",
    "\n",
    "* `square` represents n × n square (rows x columns), where each element is the index of the `numbers` vector. Each number must only be referenced once"
   ]
  },
  {
   "cell_type": "markdown",
   "id": "38581a26-1653-4245-8f22-45d0fd1ccecc",
   "metadata": {},
   "source": [
    "## Example\n",
    "\n",
    "```\n",
    "Challenge {\n",
    "    numbers = [45, 23, 67, 12, 89, 34, 56, 78, 91]\n",
    "}\n",
    "\n",
    "Solution {\n",
    "    square = [\n",
    "        [0, 3, 8],\n",
    "        [4, 5, 1],\n",
    "        [2, 7, 6]\n",
    "    ]\n",
    "}\n",
    "```\n",
    "\n",
    "The above challenge and solution represents the arrangement:\n",
    "```\n",
    "[\n",
    "    [45, 12, 91],\n",
    "    [89, 34, 23],\n",
    "    [67, 78, 56]\n",
    "]\n",
    "```\n",
    "\n",
    "The sums are:\n",
    "```\n",
    "row1 = 45 + 12 + 91 = 148\n",
    "row2 = 89 + 34 + 23 = 146\n",
    "row3 = 67 + 78 + 56 = 201\n",
    "col1 = 45 + 89 + 67 = 201\n",
    "col2 = 12 + 34 + 78 = 124\n",
    "col3 = 91 + 23 + 56 = 170\n",
    "diag1 = 45 + 34 + 56 = 135\n",
    "diag2 = 67 + 34 + 91 = 192\n",
    "\n",
    "variance of the sums = 822\n",
    "```"
   ]
  },
  {
   "cell_type": "markdown",
   "id": "eceb2150-d896-4c82-98dd-9e7d849b3e9c",
   "metadata": {
    "editable": true,
    "slideshow": {
     "slide_type": ""
    },
    "tags": []
   },
   "source": [
    "## Quick Start\n",
    "\n",
    "1. Make a copy of [tig-algorithms/src/balanced_square/template.rs](tig-algorithms/src/balanced_square/template.rs) in the same folder and rename to `my_algo.rs`\n",
    "2. Edit `my_algo.rs` and add `println!(\"Hello World\");` to the `solve_challenge` function. It should look like this:\n",
    "```\n",
    "pub fn solve_challenge(\n",
    "    challenge: &Challenge,\n",
    "    save_solution: &dyn Fn(&Solution) -> Result<()>,\n",
    ") -> Result<()> {\n",
    "    println!(\"Hello World!\");\n",
    "}\n",
    "```\n",
    "3. Edit [tig-algorithms/src/balanced_square/mod.rs](tig-algorithms/src/balanced_square/mod.rs) and add a line `pub mod my_algo;`\n",
    "4. Build, test and submit your algorithm using the notebook by running below cells."
   ]
  },
  {
   "cell_type": "code",
   "execution_count": null,
   "id": "27598236-712e-43cd-95e2-61b68ff0f795",
   "metadata": {},
   "outputs": [],
   "source": [
    "!build_algorithm balanced_square my_algo"
   ]
  },
  {
   "cell_type": "markdown",
   "id": "dae52e7f-0e74-4e28-8aac-b97c0dc30fbd",
   "metadata": {},
   "source": [
    "5. Run the cell below to test your algorithm\n",
    "> the displayed score is indicative only. It takes into account the fraction of nonces that are solved and frequency of finding a solution"
   ]
  },
  {
   "cell_type": "code",
   "execution_count": null,
   "id": "29694b4e-96a2-4bf0-ab91-d37f246db0df",
   "metadata": {},
   "outputs": [],
   "source": [
    "# [20,1] is the difficulty [size, better_than_baseline]\n",
    "# See difficulties of qualifying solutions at https://hackathons.tig.foundation/challenges?challenge_id=c001\n",
    "!test_algorithm balanced_square my_algo [20,1] --nonces 1 --verbose"
   ]
  },
  {
   "cell_type": "markdown",
   "id": "255a9e96-2ae0-44da-8e35-a5e8d44b5ee9",
   "metadata": {},
   "source": [
    "## Difficulty Parameters\n",
    "\n",
    "Challenge instances are generated with 2 parameters:\n",
    "\n",
    "1. `size`: the square is size x size\n",
    "2. `better_than_baseline`: increments in 0.1%. Your square's variance must be this % shorter than a simple greedy algorithm"
   ]
  },
  {
   "cell_type": "markdown",
   "id": "d720aea2-ed03-4e53-92cc-7b9297c8bcbd",
   "metadata": {},
   "source": [
    "## Testing Other Algorithms\n",
    "\n",
    "1. Run the cell below to list other algorithms (can click on links to view their code)"
   ]
  },
  {
   "cell_type": "code",
   "execution_count": 1,
   "id": "cd5f700c-5709-4be4-aad5-f616c7586e4f",
   "metadata": {},
   "outputs": [],
   "source": [
    "# The output will be blank at the beginning of the Hackathon\n",
    "!list_algorithms balanced_square"
   ]
  },
  {
   "cell_type": "markdown",
   "id": "453603af-9f38-47aa-803f-8b4e2153fd3c",
   "metadata": {},
   "source": [
    "2. Edit the cell below to download one of the algorithms"
   ]
  },
  {
   "cell_type": "code",
   "execution_count": null,
   "id": "840d6e41-29e5-42d8-9706-6d40d76b1777",
   "metadata": {},
   "outputs": [],
   "source": [
    "# Replace <algorithm>\n",
    "!download_algorithm balanced_square <algorithm>"
   ]
  },
  {
   "cell_type": "markdown",
   "id": "f92e214f-f62e-49f6-a624-736fd9f10878",
   "metadata": {},
   "source": [
    "3. Edit the cell below to test your downloaded algorithm"
   ]
  },
  {
   "cell_type": "code",
   "execution_count": null,
   "id": "de22c520-1006-4f30-8c9f-3bff610dfb67",
   "metadata": {},
   "outputs": [],
   "source": [
    "# [20,1] is the difficulty [size, better_than_baseline]\n",
    "# See difficulties of qualifying solutions at https://hackathons.tig.foundation/challenges?challenge_id=c001\n",
    "!test_algorithm balanced_square <algorithm> ["
   ]
  },
  {
   "cell_type": "markdown",
   "id": "5e800f91-94fb-47f3-b616-13e788fa1619",
   "metadata": {},
   "source": [
    "## Submitting Your Algorithm\n",
    "\n",
    "You can only make 1 submission per round.\n",
    "\n",
    "Within the same round, you can replace your submission any number of times (must use same name, up until 5 minutes before end of round)"
   ]
  },
  {
   "cell_type": "code",
   "execution_count": null,
   "id": "38a64909-bbc5-470d-bb7e-b6403a456015",
   "metadata": {},
   "outputs": [],
   "source": [
    "import requests\n",
    "import os\n",
    "\n",
    "# Replace with your Team's api key!\n",
    "API_KEY = None\n",
    "if API_KEY is None:\n",
    "    raise ValueError(\"Set your API Key!\")\n",
    "\n",
    "MY_ALGORITHM = None\n",
    "if MY_ALGORITHM is None:\n",
    "    raise ValueError(\"Set name of algorithm you want to submit!\")\n",
    "\n",
    "algo_path = f\"tig-algorithms/src/balanced_square/{MY_ALGORITHM}.rs\"\n",
    "if not os.path.exists(algo_path):\n",
    "    raise FileNotFoundError(f\"No rust file found at {algo_path}\")\n",
    "\n",
    "resp = requests.post(\n",
    "    \"https://hackathon-api.tig.foundation/submit-code\",\n",
    "    headers={\"X-Api-Key\": API_KEY},\n",
    "    json={\n",
    "        \"challenge_id\": \"c001\",\n",
    "        \"name\": MY_ALGORITHM,\n",
    "        \"files\": {\"mod.rs\": open(algo_path, \"r\").read()}\n",
    "    }\n",
    ")\n",
    "print(f\"Status: {resp.status_code}, Text: {resp.text}\")"
   ]
  }
 ],
 "metadata": {
  "kernelspec": {
   "display_name": "Python 3 (ipykernel)",
   "language": "python",
   "name": "python3"
  },
  "language_info": {
   "codemirror_mode": {
    "name": "ipython",
    "version": 3
   },
   "file_extension": ".py",
   "mimetype": "text/x-python",
   "name": "python",
   "nbconvert_exporter": "python",
   "pygments_lexer": "ipython3",
   "version": "3.12.3"
  }
 },
 "nbformat": 4,
 "nbformat_minor": 5
}
