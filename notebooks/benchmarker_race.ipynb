{
 "cells": [
  {
   "cell_type": "markdown",
   "id": "9f57ea0b-6177-430a-b855-53e14a691948",
   "metadata": {},
   "source": [
    "# The Benchmarker Race"
   ]
  },
  {
   "cell_type": "markdown",
   "id": "720803fa-c48b-46da-adf3-2444b93cd12f",
   "metadata": {},
   "source": [
    "## Overview"
   ]
  },
  {
   "cell_type": "markdown",
   "id": "8dcfc8c2-507e-4c3d-b5a3-a2c836ef6f28",
   "metadata": {
    "jp-MarkdownHeadingCollapsed": true
   },
   "source": [
    "Compete across 24 rounds (2 hours each) to earn the highest total points.\n",
    "\n",
    "**No Coding Required**\n",
    "\n",
    "* Your Benchmarker grinds away automatically, generating and solving random challenge instances.\n",
    "* Earn points for your solutions from the last 120 minutes.\n",
    "* But note: when the challenge pool hits 500+ solutions, easy difficulties stop earning.\n",
    "* To stay ahead of the pack: keep testing new algorithms and pushing into higher-difficulty tiers to maximize rewards."
   ]
  },
  {
   "cell_type": "markdown",
   "id": "175d9faa",
   "metadata": {},
   "source": [
    "## Tutorial Video\n",
    "\n",
    "**You may find our [tutorial video](https://drive.google.com/drive/folders/15eirdDG-XICMMBM5rLIdQ4aWvqVU4zL-) helpful.**"
   ]
  },
  {
   "cell_type": "markdown",
   "id": "3fef37bc-3061-40c3-822c-3b019dae0725",
   "metadata": {},
   "source": [
    "## Quick Start"
   ]
  },
  {
   "cell_type": "markdown",
   "id": "49790d7b-7efa-47b9-bdcc-285238d88680",
   "metadata": {},
   "source": [
    "1. Your server comes with a Benchmarker. Open the interface:\n",
    "\n",
    "<a href=\"/benchmarker\" target=\"_blank\" style=\"\n",
    "    display: inline-block;\n",
    "    background-color: black;\n",
    "    color: white;\n",
    "    padding: 20px 40px;\n",
    "    font-size: 20px;\n",
    "    font-weight: bold;\n",
    "    text-decoration: none;\n",
    "    border-radius: 10px;\n",
    "    margin: 0px 0;\n",
    "    text-align: center;\n",
    "    box-shadow: 0 4px 8px rgba(0,0,0,0.2);\n",
    "\">\n",
    "    🎮 Launch Benchmarker Interface\n",
    "</a>\n",
    "\n",
    "2. You should see an empty dashboard. This is expected\n",
    "\n",
    "![](images/benchmarker_ui.jpg)\n",
    "\n",
    "3. Click on Config, edit the values for `api_key` and `player_id`, and then press save\n",
    "> If you didn't receive an email with this information, contact us on [Discord](https://discord.gg/tigfoundation) #hackathon channel\n",
    "\n",
    "\n",
    "4. Open the [Challenges Page](https://hackathons.tig.foundation/challenges?challenge_id=c001). Down the bottom you should see **Submitted Algorithms**\n",
    "\n",
    "![](images/submitted_algos.jpg)\n",
    "\n",
    "5. Take note of one of the algorithm ids (choose from \"active\" algorithms. There won't be any until Round 3)\n",
    "\n",
    "6. Head back to the config page on your Benchmarker, edit your `algo_selection`, and press save:\n",
    "\n",
    "    ```\n",
    "    \"algo_selection\": [\n",
    "        {\n",
    "            \"algorithm_id\": \"c001_a001\",\n",
    "            \"weight\": 1,\n",
    "            \"num_nonces\": 10,\n",
    "            \"difficulty_range\": [0,1]\n",
    "        }\n",
    "    ]\n",
    "    ```\n",
    "\n",
    "7. Back on your Benchmarker home page, you should start to see benchmarks being automatically created and submitted!\n",
    "\n",
    "![](images/benchmarks.jpg)\n",
    "\n",
    "\n",
    "### About `algo_selection`\n",
    "\n",
    "You should keep an eye on the algorithms for each challenges (updates every 2hrs)! You should aim to include at least 1 algorithm for every challenge in `algo_selection`:\n",
    "\n",
    "Example:\n",
    "```\n",
    "\"algo_selection\": [\n",
    "    {\n",
    "        \"algorithm_id\": \"c001_a001\",\n",
    "        \"weight\": 1,\n",
    "        \"num_nonces\": 10,\n",
    "        \"difficulty_range\": [0,1]\n",
    "    },\n",
    "    {\n",
    "        \"algorithm_id\": \"c002_a001\",\n",
    "        \"weight\": 1,\n",
    "        \"num_nonces\": 10,\n",
    "        \"difficulty_range\": [0,1]\n",
    "    },\n",
    "    {\n",
    "        \"algorithm_id\": \"c003_a001\",\n",
    "        \"weight\": 1,\n",
    "        \"num_nonces\": 10,\n",
    "        \"difficulty_range\": [0,1]\n",
    "    }\n",
    "]\n",
    "```\n",
    "\n",
    "`c001_a001` is an algorithm for `balanced_square`, `c002_a001` is an algorithm for `min_superstring`, `c003_a001` is an algorithm for `travelling_salesman`"
   ]
  },
  {
   "cell_type": "markdown",
   "id": "355361fa-6325-4aef-9992-e9b200dbcfa0",
   "metadata": {},
   "source": [
    "## Points, Qualifiers, and Penalties"
   ]
  },
  {
   "cell_type": "markdown",
   "id": "a5804354-51c6-40a0-861d-ff494d39e031",
   "metadata": {},
   "source": [
    "Every minute, 50 points are distributed amongst Benchmarkers based on your number of solutions\n",
    "\n",
    "The TIG Hackathon site has a page for [Benchmarker stats](https://hackathons.tig.foundation/benchmarkers)\n",
    "\n",
    "![](images/imbalance.jpg)\n",
    "\n",
    "The TIG Hackathon site also has a page for [Challenge stats](https://hackathons.tig.foundation/challenges?challenge_id=c001)\n",
    "\n",
    "![](images/difficulty_plot.jpg)\n",
    "\n",
    "**Important Notes:**\n",
    "\n",
    "* When there are over 500 solutions for a challenge, easy difficulties stop qualifying for points!\n",
    "* If your % of qualifying solutions are different, you get an imbalance penalty to your earnings\n",
    "* You must be benchmarking every challenge with an active algorithm, or else you will be limited to max 10 qualifiers"
   ]
  },
  {
   "cell_type": "markdown",
   "id": "ccd15b22-37cb-4e5b-8c7a-c6caf45c349c",
   "metadata": {},
   "source": [
    "## Tips for Earning More Points"
   ]
  },
  {
   "cell_type": "markdown",
   "id": "ec5a3b69-f19b-4664-bb6c-df5ac32aaa94",
   "metadata": {
    "editable": true,
    "slideshow": {
     "slide_type": ""
    },
    "tags": []
   },
   "source": [
    "1. Your Benchmarker can have up to 5 ongoing benchmarks\n",
    "2. You can stop a benchmark at anytime (frees up a spot)\n",
    "3. Benchmarks are randomly created from your `algo_selection` (the `weight` determines how likely a particular config is selected)\n",
    "4. Difficulties are randomly sampled from `difficulty_range` (`[0,1]` is the full range, `[0,0.1]` is the easiest 10%, etc)\n",
    "5. There may be big performance differences between algorithms! See the **Testing Algorithms** section of the challenge notebooks for how to test"
   ]
  }
 ],
 "metadata": {
  "kernelspec": {
   "display_name": "Python 3 (ipykernel)",
   "language": "python",
   "name": "python3"
  },
  "language_info": {
   "codemirror_mode": {
    "name": "ipython",
    "version": 3
   },
   "file_extension": ".py",
   "mimetype": "text/x-python",
   "name": "python",
   "nbconvert_exporter": "python",
   "pygments_lexer": "ipython3",
   "version": "3.12.3"
  }
 },
 "nbformat": 4,
 "nbformat_minor": 5
}
