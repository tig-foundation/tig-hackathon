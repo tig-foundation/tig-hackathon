{
 "cells": [
  {
   "cell_type": "markdown",
   "id": "9f57ea0b-6177-430a-b855-53e14a691948",
   "metadata": {
    "editable": true,
    "slideshow": {
     "slide_type": ""
    },
    "tags": []
   },
   "source": [
    "# Welcome to The Innovation Game (TIG) Hackathon\n",
    "\n",
    "A 24-round race where algorithms evolve, strategies clash, and innovation wins.\n",
    "\n",
    "## Overview\n",
    "\n",
    "A TIG Hackathon is a unique live algorithmic tournament that is part hackathon, part strategic game.\n",
    "You’ll compete across 24 rounds (2 hours each) to earn the highest total points.\n",
    "\n",
    "* Compete as an Innovator (coder), a Benchmarker (miner), or both.\n",
    "* Innovators compete to develop the most efficient algorithm. Submissions are in Rust — but it’s totally fine to build them with AI. \n",
    "* Benchmarkers are idle mining, but to be on top, you need to make smart strategic choices.\n",
    "\n",
    "## 2 Ways to Play\n",
    "\n",
    "1. [The Innovator Race](innovator_race.ipynb)\n",
    "2. [The Benchmarker Race](benchmarker_race.ipynb) - no coding required\n",
    "\n",
    "## 3 Algorithmic Arenas\n",
    "\n",
    "Battle it out across three algorithmic arenas:\n",
    "\n",
    "1. [Balanced Square](balanced_square.ipynb)\n",
    "2. [Minimum Superstring](min_superstring.ipynb)\n",
    "3. [Travelling Salesman](travelling_salesman.ipynb)\n",
    "\n",
    "Each problem tests a different skills in optimization and creativity.\n",
    "\n",
    "## $2.6k+ in Prizes\n",
    "\n",
    "Top 3 Innovators:\n",
    "1. 500USD worth of TIG + RTX 5070\n",
    "2. 200USD worth of TIG + Gaming Monitor\n",
    "3. 100USD worth of TIG + Gaming Keyboard\n",
    "\n",
    "Top 3 Benchmarkers:\n",
    "1. 500USD worth of TIG\n",
    "2. 200USD worth of TIG\n",
    "3. 100USD worth of TIG\n",
    "\n",
    "Every individual in the top 25 teams across Innovators and Benchmarkers get $10 worth of TIG\n",
    "\n",
    "Track rankings live on the [Hackathon Leaderboard](https://hackathons.tig.foundation/leaderboard)\n",
    "\n",
    "## 48 Hours - The Race is On\n",
    "\n",
    "Two days. Twenty-four rounds (2hrs each).\n",
    "\n",
    "Think faster. Build smarter. Benchmark harder.\n",
    "\n",
    "Good luck!\n",
    "\n",
    "\n",
    "## The Game Flow\n",
    "\n",
    "1. Signup/Registration: Every participant gets access to their own 4 vCPU ARM64 server for Innovating and/or Benchmarking.\n",
    "2. Round 1 begins at 2pm October 24th (no algorithms to idle mine yet):\n",
    "      * Innovators can begin submitting algorithms\n",
    "      * Algorithms submitted in round X are public round X + 1, and are usable by Benchmarkers from round X + 2. \n",
    "3. Round 24 ends at 2pm October 26th.\n",
    "\n",
    "Each round = 2 hrs.\n",
    "You’ve got to think fast and adapt faster."
   ]
  }
 ],
 "metadata": {
  "kernelspec": {
   "display_name": "Python 3 (ipykernel)",
   "language": "python",
   "name": "python3"
  },
  "language_info": {
   "codemirror_mode": {
    "name": "ipython",
    "version": 3
   },
   "file_extension": ".py",
   "mimetype": "text/x-python",
   "name": "python",
   "nbconvert_exporter": "python",
   "pygments_lexer": "ipython3",
   "version": "3.12.3"
  }
 },
 "nbformat": 4,
 "nbformat_minor": 5
}
