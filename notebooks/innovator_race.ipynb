{
 "cells": [
  {
   "cell_type": "markdown",
   "id": "9f57ea0b-6177-430a-b855-53e14a691948",
   "metadata": {},
   "source": [
    "# The Innovator Race"
   ]
  },
  {
   "cell_type": "markdown",
   "id": "16f7faf4-839b-4e17-a310-9a2f067e4b57",
   "metadata": {},
   "source": [
    "## Overview\n",
    "\n",
    "Compete across 24 rounds (2 hours each) to earn the highest total points.\n",
    "\n",
    "**Coding in Rust Required**\n",
    "\n",
    "* Develop algorithms for the three featured challenges\n",
    "\n",
    "1. [Balanced Square](balanced_square.ipynb)\n",
    "2. [Minimum Superstring](min_superstring.ipynb)\n",
    "3. [Travelling Salesman](travelling_salesman.ipynb)\n",
    "\n",
    "* Benchmarkers can use your algorithm to solve randomly generated instances of the challenges\n",
    "* You will earn points from solutions found in the last 120 minutes (which used your algorithm)\n",
    "* But note: when the challenge pool hits 500+ solutions, easy difficulties stop earning.\n",
    "* Building faster performance algorithms means more solutions!\n",
    "* Once an algorithm is submitted it stays live for the enitre hackathon. You should aim to submit an algorithm for each challenge"
   ]
  },
  {
   "cell_type": "markdown",
   "id": "1a8c73ca-8f8a-4b24-9352-7ccec8121eb4",
   "metadata": {},
   "source": [
    "## Rules \n",
    "- You may only submit one algorithm per round (every 2hrs) across all challenges. Keep iterating to stay ontop!\n",
    "- Algorithms submitted in Round X become public in Round X+1, but can only used for benchmarking from Round X+2\n",
    "- Innovators may iterate on others’ work, but verbatim copies without meaningful changes are prohibited\n",
    "- No external libraries (apart from std) allowed in algorithm submissions"
   ]
  },
  {
   "cell_type": "markdown",
   "id": "ddd7a022-ed7c-4a84-a409-c979af02f2f2",
   "metadata": {},
   "source": [
    "## Difficulty Parameters\n",
    "\n",
    " Each instance of a challenge is generated with two difficulty parameters:\n",
    "\n",
    "- Size: controls the size of the problem.\n",
    "\n",
    "- Better-than-baseline: a quality threshold; your algorithm's solution will must beat the threshold to be considered a valid solution"
   ]
  },
  {
   "cell_type": "markdown",
   "id": "74cfb196-0407-4199-b47a-8967a1b4a829",
   "metadata": {},
   "source": [
    "## Earning Points\n",
    "\n",
    "Every minute, 50 points are divided amongst challenges (16.67 each), before being distributed amongst Innovators based on the adoption of their algorithm by benchmarkers\n",
    "\n",
    "The TIG Hackathon site has a section for viewing [Live Algorithm Adoption](https://hackathons.tig.foundation/challenges?challenge_id=c001)\n",
    "\n",
    "![](images/submitted_algos.jpg)\n",
    "\n",
    "On the same page is a plot for [Qualifying difficulties](https://hackathons.tig.foundation/challenges?challenge_id=c001)\n",
    "\n",
    "![](images/difficulty_plot.jpg)\n",
    "\n",
    "The scatter plot shows all the recent solutions, the circled ones are those that qualify for earning points\n",
    "\n",
    "Your algorithm's adoption % is based on qualifying solutions"
   ]
  },
  {
   "cell_type": "markdown",
   "id": "dd5be5e2-5808-4185-838d-5a4d8d57b50e",
   "metadata": {},
   "source": [
    "## Developing Locally (Optional)\n",
    "\n",
    "If you wish to code in a local developer environment, you can follow these steps:\n",
    "\n",
    "1. [Install Rust](https://rust-lang.org/tools/install/)\n",
    "2. Setup a development environment. We recommend developing using Visual Studio Code with Rust plugins:\n",
    "```\n",
    "# search in VS Code Extensions Marketplace\n",
    "rust-analyzer\n",
    "Even Better TOML\n",
    "crates\n",
    "CodeLLDB\n",
    "```\n",
    "\n",
    "3. Clone the repo https://github.com/tig-foundation/tig-hackathon on your local machine.\n",
    "4. Make a copy of `tig-algorithms/src/<CHALLENGE>/template.rs` in the same folder and rename to `my_algo.rs`.\n",
    "5. Edit `tig-algorithms/src/<CHALLENGE>/mod.rs` and add a line `pub mod my_algo;`\n",
    "6. Develop `my_algo.rs` locally (you can use `cargo build -p tig-algorithms` to make sure it compiles)\n",
    "\n",
    "Once you want to test or submit your algorithm, copy the code up to this server and use the scripts in the challenge notebooks."
   ]
  }
 ],
 "metadata": {
  "kernelspec": {
   "display_name": "Python 3 (ipykernel)",
   "language": "python",
   "name": "python3"
  },
  "language_info": {
   "codemirror_mode": {
    "name": "ipython",
    "version": 3
   },
   "file_extension": ".py",
   "mimetype": "text/x-python",
   "name": "python",
   "nbconvert_exporter": "python",
   "pygments_lexer": "ipython3",
   "version": "3.12.3"
  }
 },
 "nbformat": 4,
 "nbformat_minor": 5
}
