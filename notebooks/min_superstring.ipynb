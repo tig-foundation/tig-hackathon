{
 "cells": [
  {
   "cell_type": "markdown",
   "id": "6f0fadcc-3280-46dd-8a3f-120f9bb910aa",
   "metadata": {},
   "source": [
    "# Min Superstring Challenge"
   ]
  },
  {
   "cell_type": "markdown",
   "id": "ade457ca-3726-4fb7-8d4e-7ad8ecbbe949",
   "metadata": {},
   "source": [
    "## Objective\n",
    "\n",
    "Given $n$ strings, each of length 5, with random characters in a-z (can repeat), the Min Superstring Challenge is to pick a permutation of each string, and merge them together (in any order) to minimise the length of the superstring (overlaps can be merged). e.g. if you merge \"cdefg\" and \"abcde\" into \"abcdefg\"\n",
    "\n",
    "**Important:**\n",
    "* Each instance of the challenge has its own length threshold. Superstrings must be less than or equal to this threshold to be a valid solution\n",
    "* Your algorithm **IS NOT** given the length threshold\n",
    "* Your algorithm should use `save_solution(&solution)` to save your best candidate solution\n",
    "* Your algorithm should `return Ok(())` to terminate early\n",
    "* Your algorithm will automatically terminate after approximately 20s\n",
    "* After terminating, your algorithm's last save will be checked against the threshold"
   ]
  },
  {
   "cell_type": "markdown",
   "id": "f7b80ce0-c72b-4c01-8f23-17347104e8ef",
   "metadata": {},
   "source": [
    "## Definitions\n",
    "\n",
    "The code for generating random instances of the challenge can be found at [tig-challenges/src/min_superstring.rs](../tig-challenges/src/min_superstring.rs)\n",
    "\n",
    "```\n",
    "Challenge {\n",
    "   strings: Vec<String>\n",
    "}\n",
    "```\n",
    "\n",
    "* `strings` is a vector of n strings with 5 random lowercase alphabet (characters can repeat)\n",
    "\n",
    "```\n",
    "Solution {\n",
    "    permuted_strings: Vec<String>\n",
    "    superstring_idxs: Vec<usize>\n",
    "}\n",
    "```\n",
    "\n",
    "* `permuted_strings` is a vector of n strings, where `permuted_strings[i]` is your chosen permutation of `strings[i]` (can be the same)\n",
    "* `superstring_idxs` is a vector of n indices, where `superstring_idxs[i]` is the start index of `permuted_strings[i]` in the superstring"
   ]
  },
  {
   "cell_type": "markdown",
   "id": "6c654245-d6e0-4089-b3e7-0f71caefc196",
   "metadata": {},
   "source": [
    "## Example\n",
    "\n",
    "```\n",
    "Challenge {\n",
    "    strings = [qwert, qtare, breaw]\n",
    "}\n",
    "\n",
    "Solution {\n",
    "    permuted_strings = [reqtw, areqt, bware]\n",
    "    superstring_idxs = [3, 2, 0]\n",
    "}\n",
    "```\n",
    "\n",
    "The above challenge and solution represents:\n",
    "```\n",
    "superstring = bwareqtw\n",
    "len(superstring) = 8\n",
    "\n",
    "superstring[3:8] = reqtw\n",
    "superstring[2:7] = areqt\n",
    "superstring[0:5] = bware\n",
    "```\n"
   ]
  },
  {
   "cell_type": "markdown",
   "id": "2f40a4de-d03d-4f21-95ee-aa48e3845a86",
   "metadata": {},
   "source": [
    "## Difficulty Parameters\n",
    "\n",
    "Challenge instances are generated with 2 parameters:\n",
    "\n",
    "1. `size`: the number of input strings\n",
    "2. `better_than_baseline`: increments in 0.1%. Your solution superstrings length must be this % shorter than a simple greedy algorithm"
   ]
  },
  {
   "cell_type": "markdown",
   "id": "e54857c2-def6-4ea4-9714-20fa07f54181",
   "metadata": {
    "editable": true,
    "slideshow": {
     "slide_type": ""
    },
    "tags": []
   },
   "source": [
    "## Quick Start\n",
    "\n",
    "1. Make a copy of [tig-algorithms/src/min_superstring/template.rs](../tig-algorithms/src/min_superstring/template.rs) in the same folder and rename to `my_algo.rs`\n",
    "2. Edit `my_algo.rs` and add `println!(\"Hello World\");` to the `solve_challenge` function. It should look like this:\n",
    "```\n",
    "pub fn solve_challenge(\n",
    "    challenge: &Challenge,\n",
    "    save_solution: &dyn Fn(&Solution) -> Result<()>,\n",
    ") -> Result<()> {\n",
    "    println!(\"Hello World!\");\n",
    "}\n",
    "```\n",
    "3. Edit [tig-algorithms/src/min_superstring/mod.rs](../tig-algorithms/src/min_superstring/mod.rs) and add a line `pub mod my_algo;`\n",
    "4. Build, test and submit your algorithm using the notebook by running below cells."
   ]
  },
  {
   "cell_type": "code",
   "execution_count": null,
   "id": "dbe16f41-6160-47a9-bfbb-dfdbccd47861",
   "metadata": {},
   "outputs": [],
   "source": [
    "!build_algorithm min_superstring my_algo"
   ]
  },
  {
   "cell_type": "markdown",
   "id": "710f5bd3-f1e8-4af0-b79b-f9290000e002",
   "metadata": {},
   "source": [
    "5. Run the cell below to test your algorithm\n",
    "> the displayed score is indicative only. It takes into account the fraction of nonces that are solved and frequency of finding a solution"
   ]
  },
  {
   "cell_type": "code",
   "execution_count": null,
   "id": "249c0b45-1689-4d6a-be32-cb499fd45b9c",
   "metadata": {},
   "outputs": [],
   "source": [
    "# [20,1] is the difficulty [size, better_than_baseline]\n",
    "# nonces is the number of challenge instances you will test\n",
    "# See difficulties of qualifying solutions at https://hackathons.tig.foundation/challenges?challenge_id=c002\n",
    "!test_algorithm min_superstring my_algo [20,1] --nonces 1 --verbose"
   ]
  },
  {
   "cell_type": "markdown",
   "id": "d720aea2-ed03-4e53-92cc-7b9297c8bcbd",
   "metadata": {},
   "source": [
    "## Testing Other Algorithms\n",
    "\n",
    "1. Run the cell below to list other algorithms (can click on links to view their code)"
   ]
  },
  {
   "cell_type": "code",
   "execution_count": null,
   "id": "cd5f700c-5709-4be4-aad5-f616c7586e4f",
   "metadata": {},
   "outputs": [],
   "source": [
    "# The output will be blank at the beginning of the Hackathon\n",
    "!list_algorithms min_superstring"
   ]
  },
  {
   "cell_type": "markdown",
   "id": "453603af-9f38-47aa-803f-8b4e2153fd3c",
   "metadata": {},
   "source": [
    "2. Edit the cell below to download one of the algorithms"
   ]
  },
  {
   "cell_type": "code",
   "execution_count": null,
   "id": "840d6e41-29e5-42d8-9706-6d40d76b1777",
   "metadata": {},
   "outputs": [],
   "source": [
    "# Replace <algorithm>\n",
    "!download_algorithm min_superstring <algorithm>"
   ]
  },
  {
   "cell_type": "markdown",
   "id": "f92e214f-f62e-49f6-a624-736fd9f10878",
   "metadata": {},
   "source": [
    "3. Edit the cell below to test your downloaded algorithm"
   ]
  },
  {
   "cell_type": "code",
   "execution_count": null,
   "id": "de22c520-1006-4f30-8c9f-3bff610dfb67",
   "metadata": {},
   "outputs": [],
   "source": [
    "# [20,1] is the difficulty [size, better_than_baseline]\n",
    "# See difficulties of qualifying solutions at https://hackathons.tig.foundation/challenges?challenge_id=c002\n",
    "!test_algorithm min_superstring <algorithm> "
   ]
  },
  {
   "cell_type": "markdown",
   "id": "5e800f91-94fb-47f3-b616-13e788fa1619",
   "metadata": {},
   "source": [
    "## Submitting Your Algorithm\n",
    "\n",
    "You can only make 1 submission per round.\n",
    "\n",
    "Within the same round, you can replace your submission any number of times (must use same name, up until 5 minutes before end of round)"
   ]
  },
  {
   "cell_type": "code",
   "execution_count": null,
   "id": "38a64909-bbc5-470d-bb7e-b6403a456015",
   "metadata": {},
   "outputs": [],
   "source": [
    "import requests\n",
    "import os\n",
    "\n",
    "# Replace with your api key!\n",
    "API_KEY = None\n",
    "if API_KEY is None:\n",
    "    raise ValueError(\"Set your API Key!\")\n",
    "\n",
    "# Replace with your chosen algorithm name\n",
    "MY_ALGORITHM = None\n",
    "if MY_ALGORITHM is None:\n",
    "    raise ValueError(\"Set name of algorithm you want to submit!\")\n",
    "\n",
    "algo_path = f\"/app/tig-algorithms/src/min_superstring/{MY_ALGORITHM}.rs\"\n",
    "if not os.path.exists(algo_path):\n",
    "    raise FileNotFoundError(f\"No rust file found at {algo_path}\")\n",
    "\n",
    "resp = requests.post(\n",
    "    \"https://hackathon-api.tig.foundation/submit-code\",\n",
    "    headers={\"X-Api-Key\": API_KEY},\n",
    "    json={\n",
    "        \"challenge_id\": \"c002\",\n",
    "        \"name\": MY_ALGORITHM,\n",
    "        \"files\": {\"mod.rs\": open(algo_path, \"r\").read()}\n",
    "    }\n",
    ")\n",
    "print(f\"Status: {resp.status_code}, Text: {resp.text}\")"
   ]
  }
 ],
 "metadata": {
  "kernelspec": {
   "display_name": "Python 3 (ipykernel)",
   "language": "python",
   "name": "python3"
  },
  "language_info": {
   "codemirror_mode": {
    "name": "ipython",
    "version": 3
   },
   "file_extension": ".py",
   "mimetype": "text/x-python",
   "name": "python",
   "nbconvert_exporter": "python",
   "pygments_lexer": "ipython3",
   "version": "3.12.3"
  }
 },
 "nbformat": 4,
 "nbformat_minor": 5
}
