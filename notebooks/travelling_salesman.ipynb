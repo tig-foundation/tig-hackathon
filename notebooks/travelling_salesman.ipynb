{
 "cells": [
  {
   "cell_type": "markdown",
   "id": "1007fa13-e188-4980-85c2-f02bb9c0c682",
   "metadata": {},
   "source": [
    "#  Travelling Salesman Challenge"
   ]
  },
  {
   "cell_type": "markdown",
   "id": "b1d900bd-7e0d-4831-9495-20ad6a5355cf",
   "metadata": {},
   "source": [
    "## Objective\n",
    "\n",
    "Given $n$ cities (nodes), the Travelling Salesman Challenge is to find the shortest possible route that visits each city exactly once before returning to the starting point.\n",
    "\n",
    "**Important:**\n",
    "* Each instance of the challenge has its own distance threshold. A route's total distance must be less than or equal to this threshold to be a valid solution\n",
    "* Your algorithm **IS NOT** given the distance threshold\n",
    "* Your algorithm should use `save_solution(&solution)` to save your best candidate solution\n",
    "* Your algorithm should `return Ok(())` to terminate early\n",
    "* Your algorithm will automatically terminate after approximately 20s\n",
    "* After terminating, your algorithm's last save will be checked against the threshold"
   ]
  },
  {
   "cell_type": "markdown",
   "id": "9f57ea0b-6177-430a-b855-53e14a691948",
   "metadata": {
    "editable": true,
    "slideshow": {
     "slide_type": ""
    },
    "tags": []
   },
   "source": [
    "## Definitions\n",
    "\n",
    "The code for generating random instances of the challenge can be found at [tig-challenges/src/travelling_salesman.rs](tig-challenges/src/travelling_salesman.rs)\n",
    "\n",
    "```\n",
    "Challenge {\n",
    "   node_positions: Vec<(i32, i32)>\n",
    "   distance_matrix: Vec<Vec<f32>>\n",
    "}\n",
    "```\n",
    "\n",
    "* `node_positions` is a vector of n (x, y) coordinates for each node. Positions will be within a 1000 x 1000 square\n",
    "* `distance_matrix` is a n×n matrix of distances between all pairs of nodes. e.g. `distance_matrix[i][j]` is the Euclidean distance from node i to node j\n",
    "\n",
    "```\n",
    "Solution {\n",
    "    route: Vec<usize>\n",
    "}\n",
    "```\n",
    "\n",
    "* `route` is a vector of n indices representing the order to visit the nodes"
   ]
  },
  {
   "cell_type": "markdown",
   "id": "b347c32e-274e-4227-8a62-3c900c53eb97",
   "metadata": {},
   "source": [
    "## Example\n",
    "\n",
    "The below challenge and solution represents the route 0-> 2 -> 1 -> 3 -> 0 (closes the loop). Total distance is $1.4 + 1.4 + 3.1 + 4.2 = 10.1$\n",
    "\n",
    "```\n",
    "Challenge {\n",
    "    node_positions = [(0,0), (0,2), (1,1), (3,3)]\n",
    "    distance_matrix = [\n",
    "        [0,   2,   1.4, 4.2],\n",
    "        [2,   0,   1.4, 3.1],\n",
    "        [1.4, 1.4, 0,   2.8],\n",
    "        [4.2, 3.1, 2.8, 0  ]\n",
    "    ]\n",
    "}\n",
    "\n",
    "Solution {\n",
    "    route: [0, 2, 1, 3]\n",
    "}\n",
    "```"
   ]
  },
  {
   "cell_type": "markdown",
   "id": "b4907a6a-352c-4285-b0b3-6b22f965d74e",
   "metadata": {
    "editable": true,
    "slideshow": {
     "slide_type": ""
    },
    "tags": []
   },
   "source": [
    "## Quick Start\n",
    "\n",
    "1. Make a copy of [tig-algorithms/src/travelling_salesman/template.rs](tig-algorithms/src/travelling_salesman/template.rs) in the same folder and rename to `my_algo.rs`\n",
    "2. Edit `my_algo.rs` and add `println!(\"Hello World\");` to the `solve_challenge` function. It should look like this:\n",
    "```\n",
    "pub fn solve_challenge(\n",
    "    challenge: &Challenge,\n",
    "    save_solution: &dyn Fn(&Solution) -> Result<()>,\n",
    ") -> Result<()> {\n",
    "    println!(\"Hello World!\");\n",
    "}\n",
    "```\n",
    "3. Edit [tig-algorithms/src/travelling_salesman/mod.rs](tig-algorithms/src/travelling_salesman/mod.rs) and add a line `pub mod my_algo;`\n",
    "4. Build, test and submit your algorithm using the notebook by running below cells."
   ]
  },
  {
   "cell_type": "code",
   "execution_count": null,
   "id": "8ad10cdc-1db9-4594-8f11-8c52ea497600",
   "metadata": {},
   "outputs": [],
   "source": [
    "!build_algorithm travelling_salesman lazy_cars"
   ]
  },
  {
   "cell_type": "markdown",
   "id": "16165ad0-00fc-4c2d-93ee-9a7324746e2e",
   "metadata": {},
   "source": [
    "5. Run the cell below to test your algorithm\n",
    "> the displayed score is indicative only. It takes into account the fraction of nonces that are solved and frequency of finding a solution"
   ]
  },
  {
   "cell_type": "code",
   "execution_count": null,
   "id": "e30a6da6-ba19-4aed-8659-c3209f976393",
   "metadata": {},
   "outputs": [],
   "source": [
    "# [20,1] is the difficulty [size, better_than_baseline]\n",
    "# See difficulties of qualifying solutions at https://hackathons.tig.foundation/challenges?challenge_id=c003\n",
    "!test_algorithm travelling_salesman my_algo [20,1] --nonces 1 --verbose"
   ]
  },
  {
   "cell_type": "markdown",
   "id": "9f8a1a0f-6786-436b-9f84-137d72611413",
   "metadata": {},
   "source": [
    "## Difficulty Parameters\n",
    "\n",
    "Challenge instances are generated with 2 parameters:\n",
    "\n",
    "1. `size`: the number of nodes in the route\n",
    "2. `better_than_baseline`: increments in 0.1%. Your route's distance must be this % shorter than a simple greedy algorithm"
   ]
  },
  {
   "cell_type": "markdown",
   "id": "d720aea2-ed03-4e53-92cc-7b9297c8bcbd",
   "metadata": {},
   "source": [
    "## Testing Other Algorithms\n",
    "\n",
    "1. Run the cell below to list other algorithms (can click on links to view their code)"
   ]
  },
  {
   "cell_type": "code",
   "execution_count": 1,
   "id": "cd5f700c-5709-4be4-aad5-f616c7586e4f",
   "metadata": {},
   "outputs": [],
   "source": [
    "# The output will be blank at the beginning of the Hackathon\n",
    "!list_algorithms travelling_salesman"
   ]
  },
  {
   "cell_type": "markdown",
   "id": "453603af-9f38-47aa-803f-8b4e2153fd3c",
   "metadata": {},
   "source": [
    "2. Edit the cell below to download one of the algorithms"
   ]
  },
  {
   "cell_type": "code",
   "execution_count": null,
   "id": "840d6e41-29e5-42d8-9706-6d40d76b1777",
   "metadata": {},
   "outputs": [],
   "source": [
    "# Replace <algorithm>\n",
    "!download_algorithm travelling_salesman <algorithm>"
   ]
  },
  {
   "cell_type": "markdown",
   "id": "f92e214f-f62e-49f6-a624-736fd9f10878",
   "metadata": {},
   "source": [
    "3. Edit the cell below to test your downloaded algorithm\n",
    "> the displayed score is indicative only. It takes into account the fraction of nonces that are solved and frequency of finding a solution"
   ]
  },
  {
   "cell_type": "code",
   "execution_count": null,
   "id": "de22c520-1006-4f30-8c9f-3bff610dfb67",
   "metadata": {},
   "outputs": [],
   "source": [
    "# [20,1] is the difficulty [size, better_than_baseline]\n",
    "# See difficulties of qualifying solutions at https://hackathons.tig.foundation/challenges?challenge_id=c003\n",
    "!test_algorithm travelling_salesman <algorithm> [20,1]"
   ]
  },
  {
   "cell_type": "markdown",
   "id": "5e800f91-94fb-47f3-b616-13e788fa1619",
   "metadata": {},
   "source": [
    "## Submitting Your Algorithm\n",
    "\n",
    "You can only make 1 submission per round.\n",
    "\n",
    "Within the same round, you can replace your submission any number of times (must use same name, up until 5 minutes before end of round)"
   ]
  },
  {
   "cell_type": "code",
   "execution_count": null,
   "id": "38a64909-bbc5-470d-bb7e-b6403a456015",
   "metadata": {},
   "outputs": [],
   "source": [
    "import requests\n",
    "import os\n",
    "\n",
    "# Replace with your api key!\n",
    "API_KEY = None\n",
    "if API_KEY is None:\n",
    "    raise ValueError(\"Set your API Key!\")\n",
    "\n",
    "# Replace with your chosen name\n",
    "MY_ALGORITHM = None\n",
    "if MY_ALGORITHM is None:\n",
    "    raise ValueError(\"Set name of algorithm you want to submit!\")\n",
    "\n",
    "algo_path = f\"tig-algorithms/src/travelling_salesman/{MY_ALGORITHM}.rs\"\n",
    "if not os.path.exists(algo_path):\n",
    "    raise FileNotFoundError(f\"No rust file found at {algo_path}\")\n",
    "\n",
    "resp = requests.post(\n",
    "    \"https://hackathon-api.tig.foundation/submit-code\",\n",
    "    headers={\"X-Api-Key\": API_KEY},\n",
    "    json={\n",
    "        \"challenge_id\": \"c003\",\n",
    "        \"name\": MY_ALGORITHM,\n",
    "        \"files\": {\"mod.rs\": open(algo_path, \"r\").read()}\n",
    "    }\n",
    ")\n",
    "print(f\"Status: {resp.status_code}, Text: {resp.text}\")"
   ]
  }
 ],
 "metadata": {
  "kernelspec": {
   "display_name": "Python 3 (ipykernel)",
   "language": "python",
   "name": "python3"
  },
  "language_info": {
   "codemirror_mode": {
    "name": "ipython",
    "version": 3
   },
   "file_extension": ".py",
   "mimetype": "text/x-python",
   "name": "python",
   "nbconvert_exporter": "python",
   "pygments_lexer": "ipython3",
   "version": "3.12.3"
  }
 },
 "nbformat": 4,
 "nbformat_minor": 5
}
